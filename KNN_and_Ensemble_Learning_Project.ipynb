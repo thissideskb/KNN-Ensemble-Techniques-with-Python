{
  "nbformat": 4,
  "nbformat_minor": 0,
  "metadata": {
    "colab": {
      "provenance": []
    },
    "kernelspec": {
      "name": "python3",
      "display_name": "Python 3"
    },
    "language_info": {
      "name": "python"
    }
  },
  "cells": [
    {
      "cell_type": "markdown",
      "source": [
        "**Bagging & Boosting KNN & Stacking**"
      ],
      "metadata": {
        "id": "CRBDw93fwYmc"
      }
    },
    {
      "cell_type": "markdown",
      "source": [
        "# Question 1\n",
        "What is the fundamental idea behind ensemble techniques? How does bagging differ from boosting?\n",
        "\n",
        "**Answer:**  \n",
        "Ensemble techniques combine many simple models (called weak learners) to make a stronger overall model. The idea is that many slightly different opinions combined usually make a better decision than a single opinion.\n",
        "\n",
        "- **Bagging (Bootstrap Aggregation):** Train many models independently on different random samples of the data, then average (for regression) or vote (for classification). It reduces variance (less overfitting). Example: Random Forest.\n",
        "- **Boosting:** Train models sequentially where each new model focuses on mistakes made by earlier ones. It reduces bias (improves accuracy) by combining weak learners into a strong learner. Example: AdaBoost, Gradient Boosting.\n",
        "\n",
        "# Question 2\n",
        "Explain how Random Forest reduces overfitting compared to a single decision tree. Mention two key hyperparameters.\n",
        "\n",
        "**Answer:**  \n",
        "Random Forest builds many decision trees on different random subsets of the data and features. Because each tree sees different data and features, their errors tend to cancel out when averaged, reducing overfitting compared to one deep tree.\n",
        "\n",
        "Two key hyperparameters:\n",
        "- `n_estimators` — number of trees (more trees = more stable results, up to a point).\n",
        "- `max_features` — number of features considered at each split (reduces correlation between trees).\n",
        "\n",
        "# Question 3\n",
        "What is Stacking in ensemble learning? How does it differ from bagging/boosting?\n",
        "\n",
        "**Answer:**  \n",
        "Stacking trains several different base models and then trains a second-level model (meta-learner) on the base models’ predictions. The meta-learner learns how to best combine base predictions.\n",
        "\n",
        "Difference: Bagging/boosting combine models by averaging or weighted votes; stacking learns the combination via another model (more flexible).\n",
        "\n",
        "# Question 4\n",
        "What is the OOB Score in Random Forest, and why is it useful?\n",
        "\n",
        "**Answer:**  \n",
        "OOB (Out-Of-Bag) score is an internal validation measure: each tree is trained on a bootstrap sample (some rows left out = out-of-bag). The OOB samples are used to test that tree, and combined across trees give a validation score. It is useful because it gives a quick estimate of generalization without a separate validation set.\n",
        "\n",
        "# Question 5\n",
        "Compare AdaBoost and Gradient Boosting.\n",
        "\n",
        "**Answer:**  \n",
        "- **AdaBoost:** Adds models sequentially and increases weight on misclassified samples, so later models focus on hard cases. Simpler and faster.\n",
        "- **Gradient Boosting:** Trains models to predict the residual (errors) of previous models using gradient descent on a loss function. More flexible and powerful, useful for regression and complex problems (but usually slower).\n",
        "\n",
        "# Question 6\n",
        "Why does CatBoost perform well on categorical features?\n",
        "\n",
        "**Answer:**  \n",
        "CatBoost uses special target-statistic encodings with random permutations (ordered boosting) to convert categories into numeric values without leaking target information. This avoids overfitting and reduces the need for heavy pre-processing (like one-hot encoding), so it handles categorical data very well."
      ],
      "metadata": {
        "id": "C1F0XJzuw3SK"
      }
    },
    {
      "cell_type": "code",
      "source": [
        "# Question 7\n",
        "# KNN on Wine dataset: train/test split, scaling, and basic evaluation.\n",
        "# Copy-paste this whole block into one code cell.\n",
        "\n",
        "from sklearn.datasets import load_wine\n",
        "from sklearn.model_selection import train_test_split\n",
        "from sklearn.preprocessing import StandardScaler\n",
        "from sklearn.neighbors import KNeighborsClassifier\n",
        "from sklearn.metrics import accuracy_score, classification_report\n",
        "\n",
        "# Load data\n",
        "wine = load_wine()\n",
        "X, y = wine.data, wine.target\n",
        "\n",
        "# Split: 70% train, 30% test\n",
        "X_train, X_test, y_train, y_test = train_test_split(X, y, test_size=0.3, random_state=42, stratify=y)\n",
        "\n",
        "# KNN without scaling\n",
        "knn = KNeighborsClassifier(n_neighbors=5)\n",
        "knn.fit(X_train, y_train)\n",
        "y_pred = knn.predict(X_test)\n",
        "print(\"Without Scaling Accuracy:\", round(accuracy_score(y_test, y_pred), 4))\n",
        "print(\"Classification report (without scaling):\")\n",
        "print(classification_report(y_test, y_pred))\n",
        "\n",
        "# KNN with scaling (recommended)\n",
        "scaler = StandardScaler()\n",
        "X_train_scaled = scaler.fit_transform(X_train)\n",
        "X_test_scaled = scaler.transform(X_test)\n",
        "\n",
        "knn_scaled = KNeighborsClassifier(n_neighbors=5)\n",
        "knn_scaled.fit(X_train_scaled, y_train)\n",
        "y_pred_scaled = knn_scaled.predict(X_test_scaled)\n",
        "print(\"With Scaling Accuracy:\", round(accuracy_score(y_test, y_pred_scaled), 4))\n",
        "print(\"Classification report (with scaling):\")\n",
        "print(classification_report(y_test, y_pred_scaled))\n",
        "\n",
        "# Explanation:\n",
        "# KNN uses distances; scaling makes features comparable and usually improves accuracy."
      ],
      "metadata": {
        "colab": {
          "base_uri": "https://localhost:8080/"
        },
        "id": "uWYIt40Rw229",
        "outputId": "46558d16-f664-4a82-dd80-f79427e4745c"
      },
      "execution_count": 1,
      "outputs": [
        {
          "output_type": "stream",
          "name": "stdout",
          "text": [
            "Without Scaling Accuracy: 0.7222\n",
            "Classification report (without scaling):\n",
            "              precision    recall  f1-score   support\n",
            "\n",
            "           0       0.89      0.89      0.89        18\n",
            "           1       0.78      0.67      0.72        21\n",
            "           2       0.50      0.60      0.55        15\n",
            "\n",
            "    accuracy                           0.72        54\n",
            "   macro avg       0.72      0.72      0.72        54\n",
            "weighted avg       0.74      0.72      0.73        54\n",
            "\n",
            "With Scaling Accuracy: 0.9444\n",
            "Classification report (with scaling):\n",
            "              precision    recall  f1-score   support\n",
            "\n",
            "           0       1.00      1.00      1.00        18\n",
            "           1       1.00      0.86      0.92        21\n",
            "           2       0.83      1.00      0.91        15\n",
            "\n",
            "    accuracy                           0.94        54\n",
            "   macro avg       0.94      0.95      0.94        54\n",
            "weighted avg       0.95      0.94      0.94        54\n",
            "\n"
          ]
        }
      ]
    },
    {
      "cell_type": "code",
      "source": [
        "# Question 8\n",
        "# PCA + KNN on Breast Cancer dataset: show explained variance and compare accuracy.\n",
        "# Paste into one code cell.\n",
        "\n",
        "from sklearn.datasets import load_breast_cancer\n",
        "from sklearn.decomposition import PCA\n",
        "from sklearn.model_selection import train_test_split\n",
        "from sklearn.preprocessing import StandardScaler\n",
        "from sklearn.neighbors import KNeighborsClassifier\n",
        "from sklearn.metrics import accuracy_score\n",
        "import matplotlib.pyplot as plt\n",
        "import numpy as np\n",
        "\n",
        "# Load data\n",
        "data = load_breast_cancer()\n",
        "X, y = data.data, data.target\n",
        "\n",
        "# Standardize before PCA\n",
        "scaler = StandardScaler()\n",
        "X_s = scaler.fit_transform(X)\n",
        "\n",
        "# Fit PCA to see explained variance\n",
        "pca_full = PCA().fit(X_s)\n",
        "explained = np.cumsum(pca_full.explained_variance_ratio_)\n",
        "\n",
        "plt.plot(np.arange(1, len(explained)+1), explained, marker='o')\n",
        "plt.xlabel(\"Number of components\")\n",
        "plt.ylabel(\"Cumulative explained variance\")\n",
        "plt.title(\"Scree Plot - Breast Cancer dataset\")\n",
        "plt.grid(True)\n",
        "plt.show()\n",
        "\n",
        "# Choose components that keep 95% variance\n",
        "pca_95 = PCA(0.95)\n",
        "X_pca = pca_95.fit_transform(X_s)\n",
        "\n",
        "# Split original & PCA-reduced data\n",
        "Xtr, Xte, ytr, yte = train_test_split(X_s, y, test_size=0.3, random_state=42, stratify=y)\n",
        "Xtr_p, Xte_p, ytr_p, yte_p = train_test_split(X_pca, y, test_size=0.3, random_state=42, stratify=y)\n",
        "\n",
        "# KNN on original standardized data\n",
        "knn_orig = KNeighborsClassifier(n_neighbors=5)\n",
        "knn_orig.fit(Xtr, ytr)\n",
        "acc_orig = accuracy_score(yte, knn_orig.predict(Xte))\n",
        "\n",
        "# KNN on PCA data\n",
        "knn_pca = KNeighborsClassifier(n_neighbors=5)\n",
        "knn_pca.fit(Xtr_p, ytr_p)\n",
        "acc_pca = accuracy_score(yte_p, knn_pca.predict(Xte_p))\n",
        "\n",
        "print(\"Accuracy (Original, scaled):\", round(acc_orig,4))\n",
        "print(\"Accuracy (PCA 95%):\", round(acc_pca,4))\n",
        "\n",
        "# Explanation:\n",
        "# PCA can reduce features while preserving most variance; accuracy may remain similar and computation is faster."
      ],
      "metadata": {
        "colab": {
          "base_uri": "https://localhost:8080/",
          "height": 507
        },
        "id": "j1OzgPjUxDI6",
        "outputId": "10150ec3-3102-4dd4-dd0d-673e7097df05"
      },
      "execution_count": 2,
      "outputs": [
        {
          "output_type": "display_data",
          "data": {
            "text/plain": [
              "<Figure size 640x480 with 1 Axes>"
            ],
            "image/png": "[encoded data removed]"
          },
          "metadata": {}
        },
        {
          "output_type": "stream",
          "name": "stdout",
          "text": [
            "Accuracy (Original, scaled): 0.9708\n",
            "Accuracy (PCA 95%): 0.9474\n"
          ]
        }
      ]
    },
    {
      "cell_type": "code",
      "source": [
        "# Question 9\n",
        "# KNN Regressor: compare Euclidean vs Manhattan on synthetic regression data and show K vs MSE plot.\n",
        "# Paste into one code cell.\n",
        "\n",
        "from sklearn.datasets import make_regression\n",
        "from sklearn.neighbors import KNeighborsRegressor\n",
        "from sklearn.metrics import mean_squared_error\n",
        "import matplotlib.pyplot as plt\n",
        "\n",
        "# Generate synthetic regression data\n",
        "X, y = make_regression(n_samples=500, n_features=10, noise=10, random_state=42)\n",
        "\n",
        "# Train & evaluate with Euclidean and Manhattan\n",
        "knn_euc = KNeighborsRegressor(n_neighbors=5, metric='euclidean')\n",
        "knn_euc.fit(X, y)\n",
        "mse_euc = mean_squared_error(y, knn_euc.predict(X))\n",
        "\n",
        "knn_man = KNeighborsRegressor(n_neighbors=5, metric='manhattan')\n",
        "knn_man.fit(X, y)\n",
        "mse_man = mean_squared_error(y, knn_man.predict(X))\n",
        "\n",
        "print(\"MSE (Euclidean):\", round(mse_euc,2))\n",
        "print(\"MSE (Manhattan):\", round(mse_man,2))\n",
        "\n",
        "# K vs MSE (shows bias-variance tradeoff)\n",
        "K_values = [1, 3, 5, 10, 20, 50]\n",
        "mse_list = []\n",
        "for k in K_values:\n",
        "    model = KNeighborsRegressor(n_neighbors=k)\n",
        "    model.fit(X, y)\n",
        "    mse_list.append(mean_squared_error(y, model.predict(X)))\n",
        "\n",
        "plt.plot(K_values, mse_list, marker='o')\n",
        "plt.xlabel(\"K\")\n",
        "plt.ylabel(\"MSE\")\n",
        "plt.title(\"K vs MSE\")\n",
        "plt.grid(True)\n",
        "plt.show()\n",
        "\n",
        "# Explanation:\n",
        "# Small K => low bias, high variance. Large K => higher bias, lower variance."
      ],
      "metadata": {
        "colab": {
          "base_uri": "https://localhost:8080/",
          "height": 507
        },
        "id": "eg75Ow0PxGjK",
        "outputId": "0da00c22-be94-4e24-a864-602a5cb74d80"
      },
      "execution_count": 3,
      "outputs": [
        {
          "output_type": "stream",
          "name": "stdout",
          "text": [
            "MSE (Euclidean): 3103.7\n",
            "MSE (Manhattan): 3675.27\n"
          ]
        },
        {
          "output_type": "display_data",
          "data": {
            "text/plain": [
              "<Figure size 640x480 with 1 Axes>"
            ],
            "image/png": "[encoded data removed]"
          },
          "metadata": {}
        }
      ]
    },
    {
      "cell_type": "code",
      "source": [
        "# Question 10 solution – using the diabetes dataset link you provided\n",
        "\n",
        "import pandas as pd\n",
        "import numpy as np\n",
        "from sklearn.model_selection import train_test_split\n",
        "from sklearn.preprocessing import StandardScaler\n",
        "from sklearn.neighbors import KNeighborsClassifier\n",
        "from sklearn.metrics import accuracy_score, classification_report, confusion_matrix\n",
        "import time\n",
        "import seaborn as sns\n",
        "import matplotlib.pyplot as plt\n",
        "\n",
        "# 1) Load the dataset\n",
        "url = \"https://raw.githubusercontent.com/MasteriNeuron/datasets/refs/heads/main/diabetes.csv\"\n",
        "df = pd.read_csv(url)\n",
        "print(\"Loaded data shape:\", df.shape)\n",
        "print(df.head())\n",
        "\n",
        "# 2) Replace zeros in specific columns with NaN, because zero is not valid in those fields\n",
        "cols_with_zero = ['Glucose', 'BloodPressure', 'SkinThickness', 'Insulin', 'BMI']\n",
        "for c in cols_with_zero:\n",
        "    df[c] = df[c].replace(0, np.nan)\n",
        "\n",
        "print(\"\\nMissing values after replacement:\")\n",
        "print(df[cols_with_zero].isnull().sum())\n",
        "\n",
        "# 3) Impute missing values via median (simple and effective)\n",
        "for c in cols_with_zero:\n",
        "    median_val = df[c].median()\n",
        "    df[c].fillna(median_val, inplace=True)\n",
        "\n",
        "print(\"\\nMissing values after imputation:\")\n",
        "print(df[cols_with_zero].isnull().sum())\n",
        "\n",
        "# 4) Prepare features (X) and target (y)\n",
        "X = df.drop('Outcome', axis=1)\n",
        "y = df['Outcome']\n",
        "\n",
        "# 5) Split into train/test\n",
        "X_train, X_test, y_train, y_test = train_test_split(X, y, test_size=0.3, random_state=42, stratify=y)\n",
        "print(\"\\nTrain/Test split shapes:\", X_train.shape, X_test.shape)\n",
        "\n",
        "# 6) Scale features\n",
        "scaler = StandardScaler()\n",
        "X_train_s = scaler.fit_transform(X_train)\n",
        "X_test_s = scaler.transform(X_test)\n",
        "\n",
        "# 7) Try different KNN algorithms and measure time & accuracy\n",
        "methods = ['brute', 'kd_tree', 'ball_tree']\n",
        "results = []\n",
        "print(\"\\nTesting different KNN algorithms:\")\n",
        "for method in methods:\n",
        "    knn = KNeighborsClassifier(algorithm=method, n_neighbors=5)\n",
        "    start = time.time()\n",
        "    knn.fit(X_train_s, y_train)\n",
        "    y_pred = knn.predict(X_test_s)\n",
        "    end = time.time()\n",
        "    acc = accuracy_score(y_test, y_pred)"
      ],
      "metadata": {
        "colab": {
          "base_uri": "https://localhost:8080/"
        },
        "id": "6s1kZEhIxNCH",
        "outputId": "3ec5b103-210b-4533-ad09-22fab5fec6bc"
      },
      "execution_count": 5,
      "outputs": [
        {
          "output_type": "stream",
          "name": "stdout",
          "text": [
            "Loaded data shape: (768, 9)\n",
            "   Pregnancies  Glucose  BloodPressure  SkinThickness  Insulin   BMI  \\\n",
            "0            6      148             72             35        0  33.6   \n",
            "1            1       85             66             29        0  26.6   \n",
            "2            8      183             64              0        0  23.3   \n",
            "3            1       89             66             23       94  28.1   \n",
            "4            0      137             40             35      168  43.1   \n",
            "\n",
            "   DiabetesPedigreeFunction  Age  Outcome  \n",
            "0                     0.627   50        1  \n",
            "1                     0.351   31        0  \n",
            "2                     0.672   32        1  \n",
            "3                     0.167   21        0  \n",
            "4                     2.288   33        1  \n",
            "\n",
            "Missing values after replacement:\n",
            "Glucose            5\n",
            "BloodPressure     35\n",
            "SkinThickness    227\n",
            "Insulin          374\n",
            "BMI               11\n",
            "dtype: int64\n",
            "\n",
            "Missing values after imputation:\n"
          ]
        },
        {
          "output_type": "stream",
          "name": "stderr",
          "text": [
            "/tmp/ipython-input-2198402293.py:30: FutureWarning: A value is trying to be set on a copy of a DataFrame or Series through chained assignment using an inplace method.\n",
            "The behavior will change in pandas 3.0. This inplace method will never work because the intermediate object on which we are setting values always behaves as a copy.\n",
            "\n",
            "For example, when doing 'df[col].method(value, inplace=True)', try using 'df.method({col: value}, inplace=True)' or df[col] = df[col].method(value) instead, to perform the operation inplace on the original object.\n",
            "\n",
            "\n",
            "  df[c].fillna(median_val, inplace=True)\n"
          ]
        },
        {
          "output_type": "stream",
          "name": "stdout",
          "text": [
            "Glucose          0\n",
            "BloodPressure    0\n",
            "SkinThickness    0\n",
            "Insulin          0\n",
            "BMI              0\n",
            "dtype: int64\n",
            "\n",
            "Train/Test split shapes: (537, 8) (231, 8)\n",
            "\n",
            "Testing different KNN algorithms:\n"
          ]
        }
      ]
    }
  ]
}